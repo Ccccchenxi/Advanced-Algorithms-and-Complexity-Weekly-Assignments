{
 "cells": [
  {
   "cell_type": "markdown",
   "id": "1ad2540a",
   "metadata": {},
   "source": [
    "## Assignment 1"
   ]
  },
  {
   "cell_type": "code",
   "execution_count": 6,
   "id": "f9db8804",
   "metadata": {},
   "outputs": [],
   "source": [
    "def count_sort(A, M):\n",
    "    # B[1…M] ⇐ [0,…,0] // Declare array with the length M\n",
    "    B = [0] * (M + 1)\n",
    "    \n",
    "    # For j = 1 to n\n",
    "    for j in range(len(A)):\n",
    "        # B[A[j]] ⇐ B[A[j]] + 1\n",
    "        B[A[j]] += 1\n",
    "\n",
    "    # For i = 2 to M\n",
    "    for i in range(2, M + 1):\n",
    "        # B[i] ⇐ B[i] + B[i-1]\n",
    "        B[i] += B[i - 1]\n",
    "\n",
    "    # A’[B[A[j]]] ⇐ A[j]\n",
    "    # B[A[j]] ⇐ B[A[j]] – 1\n",
    "    A_prime = [0] * len(A)\n",
    "    for j in range(len(A) - 1, -1, -1):\n",
    "        A_prime[B[A[j]] - 1] = A[j]\n",
    "        B[A[j]] -= 1\n",
    "\n",
    "    return A_prime"
   ]
  },
  {
   "cell_type": "markdown",
   "id": "dc44663b",
   "metadata": {},
   "source": [
    "- **Time Complexity**: The time complexity of Counting Sort is O(n + k), where n is the number of elements in the input array and k is the range of input (in this case, M, the maximum value in the array). This is because the algorithm involves three linear passes over the data: one to count occurrences, one to accumulate counts, and one to place each element at its correct position in the sorted array.\n",
    "\n",
    "- **Space Complexity**: The space complexity is O(n + k) as well. This is due to the additional arrays used for counting (count_array) and output (output_array), which depend on the size of the input array and the range of input values."
   ]
  },
  {
   "cell_type": "code",
   "execution_count": 7,
   "id": "5377912c",
   "metadata": {},
   "outputs": [
    {
     "name": "stdout",
     "output_type": "stream",
     "text": [
      "[1, 2, 2, 3, 3, 4, 8]\n"
     ]
    }
   ],
   "source": [
    "# Example usage\n",
    "A = [4, 2, 2, 8, 3, 3, 1]\n",
    "M = max(A)  # Assuming M is the maximum value in A\n",
    "sorted_A = count_sort(A, M)\n",
    "print(sorted_A)"
   ]
  },
  {
   "cell_type": "markdown",
   "id": "18e2096c",
   "metadata": {},
   "source": [
    "## Assignment 2"
   ]
  },
  {
   "cell_type": "markdown",
   "id": "821e71c6",
   "metadata": {},
   "source": [
    "### 2.1"
   ]
  },
  {
   "cell_type": "code",
   "execution_count": 8,
   "id": "8b3ffb3e",
   "metadata": {},
   "outputs": [],
   "source": [
    "def hoare_partition(A, p, r):\n",
    "    x = A[p]\n",
    "    i = p - 1\n",
    "    j = r + 1\n",
    "    while True:\n",
    "        # Move left while element > x\n",
    "        j -= 1\n",
    "        while A[j] > x:\n",
    "            j -= 1\n",
    "        \n",
    "        # Move right while element < x\n",
    "        i += 1\n",
    "        while A[i] < x:\n",
    "            i += 1\n",
    "\n",
    "        if i < j:\n",
    "            # Swap elements at i and j\n",
    "            A[i], A[j] = A[j], A[i]\n",
    "        else:\n",
    "            return j"
   ]
  },
  {
   "cell_type": "code",
   "execution_count": 9,
   "id": "171508d5",
   "metadata": {},
   "outputs": [
    {
     "name": "stdout",
     "output_type": "stream",
     "text": [
      "Partitioned index: 8\n",
      "Partitioned array: [6, 2, 9, 5, 12, 8, 7, 4, 11, 19, 13, 21]\n"
     ]
    }
   ],
   "source": [
    "# Example usage\n",
    "A = [13, 19, 9, 5, 12, 8, 7, 4, 11, 2, 6, 21]\n",
    "p = 0\n",
    "r = len(A) - 1\n",
    "index = hoare_partition(A, p, r)\n",
    "\n",
    "print(\"Partitioned index:\", index)\n",
    "print(\"Partitioned array:\", A)"
   ]
  },
  {
   "cell_type": "markdown",
   "id": "a777f2cc",
   "metadata": {},
   "source": [
    "**First Iteration**:  \n",
    "Indices were updated to i = 0 and j = 10.  \n",
    "Elements A[0] and A[10] (13 and 6, respectively) were swapped.  \n",
    "The array became [6, 19, 9, 5, 12, 8, 7, 4, 11, 2, 13, 21].  \n",
    "**Second Iteration**:  \n",
    "Indices were updated to i = 1 and j = 9.  \n",
    "Elements A[1] and A[9] (19 and 2, respectively) were swapped.  \n",
    "The array became [6, 2, 9, 5, 12, 8, 7, 4, 11, 19, 13, 21].  \n",
    "**Third Iteration**:  \n",
    "Indices were updated to i = 9 and j = 8.  \n",
    "No swap occurred as the condition i < j was no longer met.  \n",
    "This was the final step before the function returned."
   ]
  },
  {
   "cell_type": "markdown",
   "id": "94b94f09",
   "metadata": {},
   "source": [
    "### 2.2"
   ]
  },
  {
   "cell_type": "code",
   "execution_count": 10,
   "id": "c8d5ad18",
   "metadata": {},
   "outputs": [],
   "source": [
    "def quicksort(arr):\n",
    "    if len(arr) <= 1:\n",
    "        return arr\n",
    "    else:\n",
    "        pivot_index = hoare_partition(arr, 0, len(arr) - 1)\n",
    "        first_part = quicksort(arr[:pivot_index + 1])\n",
    "        second_part = quicksort(arr[pivot_index + 1:])\n",
    "        return first_part + second_part\n",
    "\n",
    "def hoare_partition(A, p, r):\n",
    "    x = A[p]\n",
    "    i = p - 1\n",
    "    j = r + 1\n",
    "    while True:\n",
    "        j -= 1\n",
    "        while A[j] > x:\n",
    "            j -= 1\n",
    "        i += 1\n",
    "        while A[i] < x:\n",
    "            i += 1\n",
    "        if i < j:\n",
    "            A[i], A[j] = A[j], A[i]\n",
    "        else:\n",
    "            return j"
   ]
  },
  {
   "cell_type": "code",
   "execution_count": 11,
   "id": "75a04620",
   "metadata": {},
   "outputs": [
    {
     "name": "stdout",
     "output_type": "stream",
     "text": [
      "[2, 4, 5, 6, 7, 8, 9, 11, 12, 13, 19, 21]\n"
     ]
    }
   ],
   "source": [
    "# Example usage\n",
    "arr = [13, 19, 9, 5, 12, 8, 7, 4, 11, 2, 6, 21]\n",
    "sorted_arr = quicksort(arr)\n",
    "print(sorted_arr)"
   ]
  },
  {
   "cell_type": "code",
   "execution_count": null,
   "id": "31b354b1",
   "metadata": {},
   "outputs": [],
   "source": []
  }
 ],
 "metadata": {
  "kernelspec": {
   "display_name": "Python 3 (ipykernel)",
   "language": "python",
   "name": "python3"
  },
  "language_info": {
   "codemirror_mode": {
    "name": "ipython",
    "version": 3
   },
   "file_extension": ".py",
   "mimetype": "text/x-python",
   "name": "python",
   "nbconvert_exporter": "python",
   "pygments_lexer": "ipython3",
   "version": "3.9.18"
  }
 },
 "nbformat": 4,
 "nbformat_minor": 5
}
