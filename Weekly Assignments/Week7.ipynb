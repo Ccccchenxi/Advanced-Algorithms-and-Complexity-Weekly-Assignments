{
 "cells": [
  {
   "cell_type": "markdown",
   "id": "41da2761",
   "metadata": {},
   "source": [
    "## Assignment 1"
   ]
  },
  {
   "cell_type": "code",
   "execution_count": 9,
   "id": "26ab4f95",
   "metadata": {},
   "outputs": [],
   "source": [
    "import random\n",
    "from collections import defaultdict\n",
    "from scipy.sparse import dok_matrix\n",
    "\n",
    "def build_markov_chain(text, k=2):\n",
    "   \n",
    "    words = text.split()\n",
    "    index = {word: i for i, word in enumerate(set(words))}\n",
    "    matrix = dok_matrix((len(index), len(index)), dtype=float)\n",
    "\n",
    "    for i in range(len(words) - k + 1):\n",
    "        word_sequence = words[i:i + k]\n",
    "        if len(word_sequence) == k:\n",
    "            matrix[index[word_sequence[0]], index[word_sequence[1]]] += 1\n",
    "\n",
    "    # Normalizing the matrix\n",
    "    for i, word in enumerate(index):\n",
    "        sum_of_row = sum(matrix[i, j] for j in range(len(index)))\n",
    "        if sum_of_row > 0:\n",
    "            matrix[i, :] = matrix[i, :] / sum_of_row\n",
    "\n",
    "    return matrix, index\n",
    "\n",
    "def generate_text(chain, index, length=50):\n",
    "\n",
    "    word_list = list(index.keys())\n",
    "    current_word = random.choice(word_list)\n",
    "    text = [current_word]\n",
    "\n",
    "    for _ in range(length - 1):\n",
    "        current_index = index[current_word]\n",
    "        probabilities = chain[current_index, :].toarray().flatten()\n",
    "        \n",
    "        # Check if the sum of probabilities is zero\n",
    "        if probabilities.sum() == 0:\n",
    "            current_word = random.choice(word_list)\n",
    "        else:\n",
    "            next_word = random.choices(word_list, weights=probabilities)[0]\n",
    "            text.append(next_word)\n",
    "            current_word = next_word\n",
    "\n",
    "    return ' '.join(text)"
   ]
  },
  {
   "cell_type": "markdown",
   "id": "7a3f2e23-f84f-4beb-af62-07ed72cde5e4",
   "metadata": {},
   "source": [
    "#### Short test"
   ]
  },
  {
   "cell_type": "code",
   "execution_count": 15,
   "id": "2fef5efe-750a-4c97-8d1c-2fd07b735d5c",
   "metadata": {},
   "outputs": [
    {
     "data": {
      "text/plain": [
       "'a bright cold day in April,and the clocks were striking thirteen. striking thirteen. striking thirteen. cold day in April,and the clocks were striking thirteen. was a bright cold day in April,and the clocks were striking thirteen. in April,and the clocks were striking thirteen. the'"
      ]
     },
     "execution_count": 15,
     "metadata": {},
     "output_type": "execute_result"
    }
   ],
   "source": [
    "small_text = \"It was a bright cold day in April,and the clocks were striking thirteen.\"\n",
    "markov_chain, word_index = build_markov_chain(small_text)\n",
    "generated_text = generate_text(markov_chain, word_index)\n",
    "generated_text"
   ]
  },
  {
   "cell_type": "markdown",
   "id": "4d1bcad7-1374-4cfc-b7dc-0a08aed79dee",
   "metadata": {},
   "source": [
    "#### Long test"
   ]
  },
  {
   "cell_type": "code",
   "execution_count": null,
   "id": "6c8df8f3-ea6a-4589-a5db-85b0d192fbfe",
   "metadata": {},
   "outputs": [],
   "source": [
    "def read_file(file_path):\n",
    "    with open(file_path, 'r', encoding='utf-8') as file:\n",
    "        return file.read()\n",
    "\n",
    "file_path = '1984.txt'\n",
    "text = read_file(file_path)\n",
    "\n",
    "markov_chain, word_index = build_markov_chain(text)\n",
    "generated_text = generate_text(markov_chain, word_index, length=100)\n",
    "generated_text"
   ]
  },
  {
   "cell_type": "code",
   "execution_count": null,
   "id": "ee91c567-52ce-40ef-a2da-7c451805076b",
   "metadata": {},
   "outputs": [],
   "source": []
  }
 ],
 "metadata": {
  "kernelspec": {
   "display_name": "Python 3 (ipykernel)",
   "language": "python",
   "name": "python3"
  },
  "language_info": {
   "codemirror_mode": {
    "name": "ipython",
    "version": 3
   },
   "file_extension": ".py",
   "mimetype": "text/x-python",
   "name": "python",
   "nbconvert_exporter": "python",
   "pygments_lexer": "ipython3",
   "version": "3.9.18"
  }
 },
 "nbformat": 4,
 "nbformat_minor": 5
}
