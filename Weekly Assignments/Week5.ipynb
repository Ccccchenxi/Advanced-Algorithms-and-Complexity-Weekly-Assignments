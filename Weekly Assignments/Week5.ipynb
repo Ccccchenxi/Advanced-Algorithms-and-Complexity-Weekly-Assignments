{
 "cells": [
  {
   "cell_type": "markdown",
   "id": "51f8a7e5",
   "metadata": {},
   "source": [
    "## Assignment 1"
   ]
  },
  {
   "cell_type": "code",
   "execution_count": 19,
   "id": "19bee865",
   "metadata": {},
   "outputs": [],
   "source": [
    "import numpy as np\n",
    "import random\n",
    "\n",
    "def initialize_population(num_cities, population_size):\n",
    "    return [random.sample(range(num_cities), num_cities) for _ in range(population_size)]\n",
    "\n",
    "def calculate_distance(path, graph):\n",
    "    return sum(graph[path[i], path[(i + 1) % len(path)]] for i in range(len(path)))\n",
    "\n",
    "def fitness(path, graph):\n",
    "    return 1 / calculate_distance(path, graph)\n",
    "\n",
    "def select_parents(population, graph, num_parents):\n",
    "    fitness_scores = [fitness(p, graph) for p in population]\n",
    "    return list(np.array(population)[np.argsort(fitness_scores)[-num_parents:]])\n",
    "\n",
    "def crossover(parent1, parent2, num_cities):\n",
    "    start, end = sorted(random.sample(range(num_cities), 2))\n",
    "    child = [None] * num_cities\n",
    "    child[start:end] = parent1[start:end]\n",
    "\n",
    "    parent2_filtered = [city for city in parent2 if city not in child]\n",
    "    child = [parent2_filtered.pop(0) if city is None else city for city in child]\n",
    "    return child\n",
    "\n",
    "def mutate(path, mutation_rate, num_cities):\n",
    "    path = path.copy()\n",
    "    for _ in range(num_cities):\n",
    "        if random.random() < mutation_rate:\n",
    "            i, j = random.sample(range(num_cities), 2)\n",
    "            path[i], path[j] = path[j], path[i]\n",
    "    return path\n",
    "\n",
    "def genetic_algorithm(graph, population_size, num_generations, mutation_rate):\n",
    "    num_cities = len(graph)\n",
    "    population = initialize_population(num_cities, population_size)\n",
    "    for generation in range(num_generations):\n",
    "        new_population = []\n",
    "        parents = select_parents(population, graph, 2)\n",
    "        for _ in range(population_size):\n",
    "            child = crossover(parents[0], parents[1], num_cities)\n",
    "            child = mutate(child, mutation_rate, num_cities)\n",
    "            new_population.append(child)\n",
    "        population = new_population\n",
    "\n",
    "    best_path = max(population, key=lambda p: fitness(p, graph))\n",
    "    return best_path, calculate_distance(best_path, graph)"
   ]
  },
  {
   "cell_type": "code",
   "execution_count": 28,
   "id": "7c83174e",
   "metadata": {},
   "outputs": [
    {
     "name": "stdout",
     "output_type": "stream",
     "text": [
      "Best path: [7, 1, 3, 0, 4, 6, 8, 5, 9, 2]\n",
      "Distance: 2.918052065857162\n"
     ]
    }
   ],
   "source": [
    "# Example usage\n",
    "num_cities = 10\n",
    "graph = np.random.rand(num_cities, num_cities)  # Replace with graph\n",
    "graph = (graph + graph.T) / 2  # Making the graph symmetric\n",
    "np.fill_diagonal(graph, np.inf)  # No self-loops\n",
    "\n",
    "best_path, distance = genetic_algorithm(graph, 100, 500, 0.01)\n",
    "print(f\"Best path: {best_path}\\nDistance: {distance}\")"
   ]
  },
  {
   "cell_type": "markdown",
   "id": "c88baa91",
   "metadata": {},
   "source": [
    "## Assignment 2"
   ]
  },
  {
   "cell_type": "code",
   "execution_count": 23,
   "id": "e38e5f69",
   "metadata": {},
   "outputs": [],
   "source": [
    "import numpy as np\n",
    "import random\n",
    "import math\n",
    "\n",
    "def calculate_distance(path, graph):\n",
    "    return sum(graph[path[i], path[(i + 1) % len(path)]] for i in range(len(path)))\n",
    "\n",
    "def create_initial_solution(num_cities):\n",
    "    path = list(range(num_cities))\n",
    "    random.shuffle(path)\n",
    "    return path\n",
    "\n",
    "def get_neighbor(path):\n",
    "    new_path = path.copy()\n",
    "    i, j = random.sample(range(len(path)), 2)\n",
    "    new_path[i], new_path[j] = new_path[j], new_path[i]\n",
    "    return new_path\n",
    "\n",
    "def acceptance_probability(old_cost, new_cost, temperature):\n",
    "    if new_cost < old_cost:\n",
    "        return 1.0\n",
    "    return math.exp((old_cost - new_cost) / temperature)\n",
    "\n",
    "def simulated_annealing(graph, initial_temperature, cooling_rate):\n",
    "    current_solution = create_initial_solution(len(graph))\n",
    "    current_cost = calculate_distance(current_solution, graph)\n",
    "    temperature = initial_temperature\n",
    "\n",
    "    while temperature > 1:\n",
    "        neighbor = get_neighbor(current_solution)\n",
    "        neighbor_cost = calculate_distance(neighbor, graph)\n",
    "\n",
    "        if acceptance_probability(current_cost, neighbor_cost, temperature) > random.random():\n",
    "            current_solution, current_cost = neighbor, neighbor_cost\n",
    "\n",
    "        temperature *= cooling_rate\n",
    "\n",
    "    return current_solution, current_cost"
   ]
  },
  {
   "cell_type": "code",
   "execution_count": 29,
   "id": "b1fd14ab",
   "metadata": {},
   "outputs": [
    {
     "name": "stdout",
     "output_type": "stream",
     "text": [
      "Best path: [4, 8, 6, 3, 7, 0, 9, 2, 5, 1]\n",
      "Distance: 4.244807925906157\n"
     ]
    }
   ],
   "source": [
    "# Example usage\n",
    "num_cities = 10\n",
    "graph = np.random.rand(num_cities, num_cities)  # Replace with graph\n",
    "graph = (graph + graph.T) / 2  # Making the graph symmetric\n",
    "np.fill_diagonal(graph, np.inf)  # No self-loops\n",
    "\n",
    "best_path, distance = simulated_annealing(graph, 10000, 0.9999)\n",
    "print(f\"Best path: {best_path}\\nDistance: {distance}\")"
   ]
  },
  {
   "cell_type": "code",
   "execution_count": null,
   "id": "8d233a6c",
   "metadata": {},
   "outputs": [],
   "source": []
  }
 ],
 "metadata": {
  "kernelspec": {
   "display_name": "Python 3 (ipykernel)",
   "language": "python",
   "name": "python3"
  },
  "language_info": {
   "codemirror_mode": {
    "name": "ipython",
    "version": 3
   },
   "file_extension": ".py",
   "mimetype": "text/x-python",
   "name": "python",
   "nbconvert_exporter": "python",
   "pygments_lexer": "ipython3",
   "version": "3.9.18"
  }
 },
 "nbformat": 4,
 "nbformat_minor": 5
}
