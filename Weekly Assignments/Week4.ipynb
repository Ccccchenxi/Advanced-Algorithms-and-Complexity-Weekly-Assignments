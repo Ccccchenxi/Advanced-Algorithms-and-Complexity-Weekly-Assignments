{
 "cells": [
  {
   "cell_type": "markdown",
   "id": "064d7b6d",
   "metadata": {},
   "source": [
    "## Assignment 1"
   ]
  },
  {
   "cell_type": "code",
   "execution_count": 6,
   "id": "d561191d",
   "metadata": {},
   "outputs": [],
   "source": [
    "import random\n",
    "import copy\n",
    "\n",
    "class Graph:\n",
    "    def __init__(self, graph_dict):\n",
    "        self.graph_dict = graph_dict\n",
    "\n",
    "    def get_random_edge(self):\n",
    "        v1 = random.choice(list(self.graph_dict.keys()))\n",
    "        v2 = random.choice(self.graph_dict[v1])\n",
    "        return v1, v2\n",
    "\n",
    "    def merge_vertices(self, v1, v2):\n",
    "        for vertex in self.graph_dict[v2]:\n",
    "            self.graph_dict[vertex].remove(v2)\n",
    "            if vertex != v1:\n",
    "                self.graph_dict[vertex].append(v1)\n",
    "\n",
    "        self.graph_dict[v1].extend(self.graph_dict[v2])\n",
    "        del self.graph_dict[v2]\n",
    "\n",
    "        # Remove self loops\n",
    "        self.graph_dict[v1] = [vertex for vertex in self.graph_dict[v1] if vertex != v1]\n",
    "\n",
    "    def min_cut(self):\n",
    "        while len(self.graph_dict) > 2:\n",
    "            v1, v2 = self.get_random_edge()\n",
    "            self.merge_vertices(v1, v2)\n",
    "\n",
    "        return len(self.graph_dict[list(self.graph_dict.keys())[0]])\n",
    "\n",
    "def karger_min_cut(graph_dict, num_trials):\n",
    "    min_cut_count = float('inf')\n",
    "    for _ in range(num_trials):\n",
    "        graph_copy = copy.deepcopy(graph_dict)\n",
    "        graph = Graph(graph_copy)\n",
    "        cut_count = graph.min_cut()\n",
    "        min_cut_count = min(min_cut_count, cut_count)\n",
    "    return min_cut_count"
   ]
  },
  {
   "cell_type": "code",
   "execution_count": 7,
   "id": "d70f1a78",
   "metadata": {},
   "outputs": [
    {
     "name": "stdout",
     "output_type": "stream",
     "text": [
      "3\n"
     ]
    }
   ],
   "source": [
    "# Example graph\n",
    "graph_dict = {\n",
    "    'A': ['B', 'C', 'D'],\n",
    "    'B': ['A', 'C', 'D'],\n",
    "    'C': ['A', 'B', 'D'],\n",
    "    'D': ['A', 'B', 'C']\n",
    "}\n",
    "\n",
    "# Running the algorithm multiple times\n",
    "num_trials = 100\n",
    "print(karger_min_cut(graph_dict, num_trials))"
   ]
  },
  {
   "cell_type": "markdown",
   "id": "89db16ae",
   "metadata": {},
   "source": [
    "## Assignment 2"
   ]
  },
  {
   "cell_type": "code",
   "execution_count": 8,
   "id": "7abd43fc",
   "metadata": {},
   "outputs": [
    {
     "name": "stdout",
     "output_type": "stream",
     "text": [
      "Enter desired cache size: 1000\n",
      "First 10 states of FIFO Cache: [[2], [2], [2, 5], [2, 5], [2, 5, 8], [2, 5, 8, 1], [2, 5, 8, 1, 3], [2, 5, 8, 1, 3, 0], [2, 5, 8, 1, 3, 0], [2, 5, 8, 1, 3, 0, 7]]\n",
      "First 10 states of LRU Cache: [[2], [2], [2, 5], [5, 2], [5, 2, 8], [5, 2, 8, 1], [5, 2, 8, 1, 3], [5, 2, 8, 1, 3, 0], [5, 2, 8, 1, 0, 3], [5, 2, 8, 1, 0, 3, 7]]\n"
     ]
    }
   ],
   "source": [
    "import random\n",
    "\n",
    "class FIFO:\n",
    "    def __init__(self, capacity):\n",
    "        self.cache = []\n",
    "        self.capacity = capacity\n",
    "        self.state_tracker = []\n",
    "\n",
    "    def access_cache(self, item):\n",
    "        if item not in self.cache:\n",
    "            if len(self.cache) >= self.capacity:\n",
    "                self.cache.pop(0)  # Remove the oldest item\n",
    "            self.cache.append(item)\n",
    "        self.state_tracker.append(list(self.cache))\n",
    "\n",
    "class LRU:\n",
    "    def __init__(self, capacity):\n",
    "        self.cache = []\n",
    "        self.capacity = capacity\n",
    "        self.state_tracker = []\n",
    "\n",
    "    def access_cache(self, item):\n",
    "        if item in self.cache:\n",
    "            self.cache.remove(item)\n",
    "        elif len(self.cache) >= self.capacity:\n",
    "            self.cache.pop(0)  # Remove the least recently used item\n",
    "        self.cache.append(item)\n",
    "        self.state_tracker.append(list(self.cache))\n",
    "\n",
    "def test_cache(cache_size, num_inputs=1000, input_range=10):\n",
    "    fifo_cache = FIFO(cache_size)\n",
    "    lru_cache = LRU(cache_size)\n",
    "\n",
    "    for _ in range(num_inputs):\n",
    "        number = random.randint(0, input_range - 1)\n",
    "        fifo_cache.access_cache(number)\n",
    "        lru_cache.access_cache(number)\n",
    "\n",
    "    return fifo_cache.state_tracker, lru_cache.state_tracker\n",
    "\n",
    "# Example usage\n",
    "cache_size = int(input(\"Enter desired cache size: \"))\n",
    "fifo_states, lru_states = test_cache(cache_size)\n",
    "\n",
    "# Displaying the state of caches for the first 10 steps\n",
    "print(\"First 10 states of FIFO Cache:\", fifo_states[:10])\n",
    "print(\"First 10 states of LRU Cache:\", lru_states[:10])"
   ]
  },
  {
   "cell_type": "code",
   "execution_count": null,
   "id": "d34c2b01",
   "metadata": {},
   "outputs": [],
   "source": []
  }
 ],
 "metadata": {
  "kernelspec": {
   "display_name": "Python 3 (ipykernel)",
   "language": "python",
   "name": "python3"
  },
  "language_info": {
   "codemirror_mode": {
    "name": "ipython",
    "version": 3
   },
   "file_extension": ".py",
   "mimetype": "text/x-python",
   "name": "python",
   "nbconvert_exporter": "python",
   "pygments_lexer": "ipython3",
   "version": "3.9.18"
  }
 },
 "nbformat": 4,
 "nbformat_minor": 5
}
