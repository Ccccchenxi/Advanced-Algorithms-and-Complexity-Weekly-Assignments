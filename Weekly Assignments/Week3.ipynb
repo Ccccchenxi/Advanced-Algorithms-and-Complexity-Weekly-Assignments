{
 "cells": [
  {
   "cell_type": "markdown",
   "id": "4461b25d",
   "metadata": {},
   "source": [
    "## Assignment 1"
   ]
  },
  {
   "cell_type": "code",
   "execution_count": 18,
   "id": "85cc6255",
   "metadata": {},
   "outputs": [],
   "source": [
    "import heapq\n",
    "\n",
    "def dijkstraLongestPath(V, E, start):\n",
    "    # Initialize distances with negative infinity\n",
    "    distances = {vertex: float('-inf') for vertex in V}\n",
    "    distances[start] = 0\n",
    "\n",
    "    # Use a max heap (priority queue) for selecting the node with the maximum distance\n",
    "    queue = [(-distances[start], start)]  # Negate distance for max heap behavior\n",
    "    heapq.heapify(queue)\n",
    "\n",
    "    while queue:\n",
    "        current_distance, current_node = heapq.heappop(queue)\n",
    "        current_distance = -current_distance  # Reverse the negation\n",
    "\n",
    "        # Check and update distances for each edge originating from the current node\n",
    "        if current_node in E:\n",
    "            for neighbor, weight in E[current_node].items():\n",
    "                distance = current_distance + weight\n",
    "                if distance > distances[neighbor]:\n",
    "                    distances[neighbor] = distance\n",
    "                    heapq.heappush(queue, (-distance, neighbor))\n",
    "\n",
    "    return distances"
   ]
  },
  {
   "cell_type": "markdown",
   "id": "342310b6",
   "metadata": {},
   "source": [
    "- **V** represents the set of vertices in the graph.\n",
    "- **E** represents the edges with their weights, structured as a dictionary of dictionaries. For each key-value pair in E, the key is a vertex, and the value is another dictionary where each key-value pair represents an edge and its weight "
   ]
  },
  {
   "cell_type": "code",
   "execution_count": 19,
   "id": "95fa87c4",
   "metadata": {},
   "outputs": [
    {
     "name": "stdout",
     "output_type": "stream",
     "text": [
      "{'B': 1, 'C': 4, 'D': 8, 'A': 0}\n"
     ]
    }
   ],
   "source": [
    "# Example usage\n",
    "V = {'A', 'B', 'C', 'D'}  # Set of vertices\n",
    "E = {  # Dictionary of edges with weights\n",
    "    'A': {'B': 1, 'C': 4},\n",
    "    'B': {'C': 3, 'D': 2},\n",
    "    'C': {'D': 4}\n",
    "}\n",
    "\n",
    "start_node = 'A'\n",
    "longest_distances = dijkstraLongestPath(V, E, start_node)\n",
    "print(longest_distances)"
   ]
  },
  {
   "cell_type": "markdown",
   "id": "5682e4b2",
   "metadata": {},
   "source": [
    "## Assignment 2"
   ]
  },
  {
   "cell_type": "code",
   "execution_count": 12,
   "id": "04c6d02a",
   "metadata": {},
   "outputs": [],
   "source": [
    "def greedyCoinChange(coins, V):\n",
    "    # Sort the coins in descending order\n",
    "    coins.sort(reverse=True)\n",
    "\n",
    "    # List to store the used coins\n",
    "    usedCoins = []\n",
    "\n",
    "    # Iterate over each coin\n",
    "    for coin in coins:\n",
    "        while V >= coin:\n",
    "            V -= coin\n",
    "            usedCoins.append(coin)\n",
    "\n",
    "    return usedCoins if V == 0 else \"No solution\""
   ]
  },
  {
   "cell_type": "code",
   "execution_count": 13,
   "id": "e40afe73",
   "metadata": {},
   "outputs": [
    {
     "name": "stdout",
     "output_type": "stream",
     "text": [
      "Coins used: [5, 5, 1]\n"
     ]
    }
   ],
   "source": [
    "# Example usage\n",
    "coins = [1, 2, 5]  # Available coins\n",
    "V = 11  # Value to make change for\n",
    "print(\"Coins used:\", greedyCoinChange(coins, V))"
   ]
  },
  {
   "cell_type": "code",
   "execution_count": null,
   "id": "0c72c181",
   "metadata": {},
   "outputs": [],
   "source": []
  }
 ],
 "metadata": {
  "kernelspec": {
   "display_name": "Python 3 (ipykernel)",
   "language": "python",
   "name": "python3"
  },
  "language_info": {
   "codemirror_mode": {
    "name": "ipython",
    "version": 3
   },
   "file_extension": ".py",
   "mimetype": "text/x-python",
   "name": "python",
   "nbconvert_exporter": "python",
   "pygments_lexer": "ipython3",
   "version": "3.9.18"
  }
 },
 "nbformat": 4,
 "nbformat_minor": 5
}
